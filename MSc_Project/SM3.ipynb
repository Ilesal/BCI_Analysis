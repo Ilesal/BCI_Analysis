{
 "cells": [
  {
   "cell_type": "markdown",
   "metadata": {},
   "source": [
    "ID Number: 33385806"
   ]
  },
  {
   "cell_type": "markdown",
   "metadata": {},
   "source": [
    "# EEG-based BCI using Emotiv Epoc X and Visual Imagery: An Exploratory Study"
   ]
  },
  {
   "cell_type": "markdown",
   "metadata": {},
   "source": [
    "## MSc Project for Computational Cognitive Neuroscience 2020/2021"
   ]
  },
  {
   "cell_type": "markdown",
   "metadata": {},
   "source": [
    "1. Explore the spectral content through standard periodogram and Welch's method\n",
    "2. Compute Time-Frequency Analysis using Morlet Wavelet Transform \n",
    " "
   ]
  },
  {
   "cell_type": "markdown",
   "metadata": {},
   "source": [
    "### Import Libraries"
   ]
  },
  {
   "cell_type": "code",
   "execution_count": null,
   "metadata": {},
   "outputs": [],
   "source": [
    "%%capture libraries    \n",
    "import sys\n",
    "import os\n",
    "!{sys.executable} -m pip install numpy\n",
    "!{sys.executable} -m pip install mne\n",
    "!{sys.executable} -m pip install mne-features\n",
    "import numpy as np\n",
    "import matplotlib \n",
    "import pathlib\n",
    "import mne\n",
    "import seaborn as sns\n",
    "import pandas as pd\n",
    "from mne.io import concatenate_raws, read_raw_edf\n",
    "from mne import Epochs, create_info, events_from_annotations\n",
    "from mne.preprocessing import ICA, create_eog_epochs, create_ecg_epochs,corrmap\n",
    "from mne.time_frequency import tfr_morlet, psd_multitaper, psd_welch, tfr_stockwell,tfr_multitaper,tfr_array_morlet,AverageTFR\n",
    "from scipy import signal, stats\n",
    "from scipy.integrate import simps\n",
    "from scipy.signal import welch\n",
    "from scipy.stats import ttest_ind\n",
    "matplotlib.use('Qt5Agg') #allow interactive plots\n",
    "import matplotlib.pyplot as plt\n",
    "from mne.decoding import GeneralizingEstimator, Scaler,cross_val_multiscore, LinearModel, get_coef, Vectorizer, CSP, SlidingEstimator\n",
    "from mne.viz import centers_to_edges\n",
    "%run EEG_functions_1.ipynb import load_data, excl_chan, filter_data, make_epochs, plot_data, epochs_power #upload the notebook with the python functions\n",
    "\n"
   ]
  },
  {
   "cell_type": "markdown",
   "metadata": {},
   "source": [
    "### Load the cleaned epoched dataset"
   ]
  },
  {
   "cell_type": "markdown",
   "metadata": {},
   "source": [
    "This dataset is filtered between 1-30Hz, artifacts correction with ICA and manual rejections of bad epochs (20 epochs rejected). \n",
    "\n",
    "Each epoch has a duration of 9.5secs (0.25 - 9.748)"
   ]
  },
  {
   "cell_type": "code",
   "execution_count": null,
   "metadata": {},
   "outputs": [],
   "source": [
    "epochs= mne.read_epochs('epoched_data_280-epo.fif', preload=True)"
   ]
  },
  {
   "cell_type": "markdown",
   "metadata": {},
   "source": [
    "### Explore the frequence content of our epochs for each imagery condition\n",
    "\n"
   ]
  },
  {
   "cell_type": "code",
   "execution_count": null,
   "metadata": {},
   "outputs": [],
   "source": [
    "epochs['Relax'].plot_psd(average=True, fmax=70)"
   ]
  },
  {
   "cell_type": "code",
   "execution_count": null,
   "metadata": {},
   "outputs": [],
   "source": [
    "epochs['Push'].plot_psd(average=True, fmax=70)"
   ]
  },
  {
   "cell_type": "markdown",
   "metadata": {},
   "source": [
    "### Plot the PSD spatial distribution for each task"
   ]
  },
  {
   "cell_type": "code",
   "execution_count": null,
   "metadata": {},
   "outputs": [],
   "source": [
    "#Define Freqeuncy Bands\n",
    "bands = [(4, 7, 'Theta'), (8, 12, 'Alpha'), (13, 30, 'Beta')]"
   ]
  },
  {
   "cell_type": "code",
   "execution_count": null,
   "metadata": {},
   "outputs": [],
   "source": [
    "epochs['Relax'].plot_psd_topomap(bands=bands, normalization='full', cmap='RdBu_r')"
   ]
  },
  {
   "cell_type": "code",
   "execution_count": null,
   "metadata": {},
   "outputs": [],
   "source": [
    "epochs['Push'].plot_psd_topomap(bands=bands, normalization='full',  cmap='RdBu_r')"
   ]
  },
  {
   "cell_type": "markdown",
   "metadata": {},
   "source": [
    "### Compute the PSD based on Welch's method"
   ]
  },
  {
   "cell_type": "code",
   "execution_count": null,
   "metadata": {},
   "outputs": [],
   "source": [
    "#concatenate epochs from the channel of interest in order to have 1 dimensional array\n",
    "#['AF3','F7','F3','FC5','T7','P7','O1','O2','P8','T8','FC6','F4','F8','AF4']; \n",
    " \n",
    "data_relax_O1=[]\n",
    "for sample in range (0, len(epochs['Relax'])):\n",
    "    x=list(epochs['Relax'].get_data()[sample][6][:]) #define your channel, 6 is O1 and 7 is O2 \n",
    "    data_relax_O1 += x\n",
    "    \n",
    "data_relax_O2=[]\n",
    "for sample in range (0, len(epochs['Relax'])):\n",
    "    x=list(epochs['Relax'].get_data()[sample][7][:])  \n",
    "    data_relax_O2 += x\n",
    "    \n",
    "#print(len(data_relax_O1)) #the shape is given by n_epochs*n_samples (type: epochs['Relax'].get_data().shape[0] * 2432)\n",
    " \n",
    "data_push_O1=[]\n",
    "for sample in range (0, len(epochs['Push'])):\n",
    "    x=list(epochs['Push'].get_data()[sample][6][:])  \n",
    "    data_push_O1 += x\n",
    "\n",
    "data_push_O2=[]\n",
    "for sample in range (0, len(epochs['Push'])):\n",
    "    x=list(epochs['Push'].get_data()[sample][7][:])  \n",
    "    data_push_O2 += x\n",
    "    \n",
    "#print(len(data_push))#the shape is given by n_epochs*n_samples (type: epochs['Push'].get_data().shape[0] * 2432)\n"
   ]
  },
  {
   "cell_type": "code",
   "execution_count": null,
   "metadata": {},
   "outputs": [],
   "source": [
    "#Compute Welch's\n",
    "\n",
    "sfreq=epochs.info['sfreq'] #sampling rate\n",
    "win = 4 * sfreq # Define window length (4 seconds)\n",
    "\n",
    "#O1\n",
    "Fxx_rO1, Pxx_rO1 = welch(data_relax_O1, sfreq, nperseg=win, window='hanning',  detrend=\"linear\")  #relax condition\n",
    "Fxx_pO1, Pxx_pO1 = welch(data_push_O1, sfreq, nperseg=win, window='hanning',  detrend=\"linear\") #push condition\n",
    "\n",
    "#O2\n",
    "Fxx_rO2, Pxx_rO2 = welch(data_relax_O2, sfreq, nperseg=win, window='hanning',  detrend=\"linear\")  #relax condition\n",
    "Fxx_pO2, Pxx_pO2 = welch(data_push_O2, sfreq, nperseg=win, window='hanning',  detrend=\"linear\") #push condition\n",
    "\n",
    "#Concatenate values\n",
    "rO=np.concatenate([Pxx_rO1,Pxx_rO2]) #relax from occipital channels O1 and O2\n",
    "pO=np.concatenate([Pxx_pO1,Pxx_pO2]) #push from occipital channels O1 and O2"
   ]
  },
  {
   "cell_type": "code",
   "execution_count": null,
   "metadata": {},
   "outputs": [],
   "source": [
    "#Compute a t-test to inspect if there is a statistically significant difference between the two PSDs\n",
    "stats.ttest_ind(rO, pO)"
   ]
  },
  {
   "cell_type": "code",
   "execution_count": null,
   "metadata": {},
   "outputs": [],
   "source": [
    "#Compute absolute and relative power in the RELAX condition (taking into account the channels previously described)\n",
    "\n",
    "low, high=8,12 # alpha band limit\n",
    "#low, high=13,30 # beta band limit\n",
    "\n",
    "idx_alpha=np.logical_and(Fxx>=low, Fxx<=high) \n",
    "\n",
    "#absolute power\n",
    "freq_res=Fxx_rO1[1]-Fxx_rO1[0]\n",
    "#absolute power by approximateing the area under the curve\n",
    "alpha_power=simps(Pxx_rO1[idx_alpha], dx=freq_res)\n",
    "print('Absolute alpha power: %.15f uV^2' %alpha_power)\n",
    "\n",
    "#relative power\n",
    "total_power=simps(Pxx_rO1, dx=freq_res)\n",
    "alpha_rel_power=np.round(np.divide(alpha_power,total_power),3)\n",
    "print('Relative alpha power: %.15f uV^2' %alpha_rel_power)\n",
    "print('Thus, ', alpha_rel_power*100, '% of the total power of the signal is contained in alpha frequency band' )"
   ]
  },
  {
   "cell_type": "code",
   "execution_count": null,
   "metadata": {},
   "outputs": [],
   "source": [
    "# Relax Plot - Alpha Band\n",
    "\n",
    "%matplotlib inline\n",
    "plt.plot(Fxx_rO1, Pxx_rO1)\n",
    "plt.fill_between(Fxx_rO1, Pxx_rO1, where=idx_alpha, color='orange')  \n",
    "plt.xlim([2, 30])\n",
    "plt.ylim([0, Pxx.max()*1.1])\n",
    "plt.xlabel('Frequency (Hz)')\n",
    "plt.ylabel(\"Power spectral density\")\n",
    "plt.title(\"Welch's Periodogram - Relax O1 Alpha Band \")\n",
    "plt.show()"
   ]
  },
  {
   "cell_type": "code",
   "execution_count": null,
   "metadata": {},
   "outputs": [],
   "source": [
    "#Compute absolute and relative power in the PUSH condition\n",
    "\n",
    "low, high=8,12 # alpha band limit\n",
    "#low, high=13,30 # beta band limit\n",
    "\n",
    "idx_alpha=np.logical_and(Fxx_p>=low, Fxx_p<=high)\n",
    "\n",
    "#absolute power\n",
    "freq_res=Fxx_pO1[1]-Fxx_pO1[0]\n",
    "#absolute power by approximateing the area under the curve\n",
    "alpha_power=simps(Pxx_pO1[idx_alpha], dx=freq_res)\n",
    "print('Absolute alpha power: %.15f uV^2' %alpha_power)\n",
    "\n",
    "#relative power\n",
    "total_power=simps(Pxx_pO1, dx=freq_res)\n",
    "alpha_rel_power=np.round(np.divide(alpha_power,total_power),3)\n",
    "print('Relative alpha power: %.15f uV^2' %alpha_rel_power)\n",
    "print('Thus, ', alpha_rel_power*100, '% of the total power of the signal is contained in alpha frequency band' )"
   ]
  },
  {
   "cell_type": "code",
   "execution_count": null,
   "metadata": {},
   "outputs": [],
   "source": [
    "# Plot Push - Alpha Band\n",
    "\n",
    "%matplotlib inline\n",
    "plt.plot(Fxx_pO1, Pxx_pO1)\n",
    "plt.fill_between(Fxx_pO1, Pxx_pO1, where=idx_alpha, color='orange')\n",
    "plt.xlim([2, 30])\n",
    "plt.ylim([0, Pxx.max()*1.1])\n",
    "plt.xlabel('Frequency (Hz)')\n",
    "plt.ylabel(\"Power spectral density\")\n",
    "plt.title(\"Welch's Periodogram - Push O1 Alpha Band\")\n",
    "plt.show()"
   ]
  },
  {
   "cell_type": "markdown",
   "metadata": {},
   "source": [
    "### Compute Time-Frequency Analysis (TFR) on epoched data using Morlet Wavelet Transform and FFT for convolutions "
   ]
  },
  {
   "cell_type": "code",
   "execution_count": null,
   "metadata": {},
   "outputs": [],
   "source": [
    "freqs = np.logspace(*np.log10([2, 30]), num=40) # define frequencies of interest (log-spaced) \n",
    "n_cycles = freqs / 2.  # number of cycle increase linearly per frequency\n",
    "\n",
    "\n",
    "#Compute power for RELAX condition\n",
    "power_r = mne.time_frequency.tfr_morlet(epochs['Relax'], freqs=freqs, n_cycles=n_cycles, \n",
    "                                           use_fft=True, average=True,\n",
    "                                           return_itc=False, decim=3, n_jobs=1)\n",
    "\n",
    "#Compute power for PUSH condition\n",
    "power_p= mne.time_frequency.tfr_morlet(epochs['Push'], freqs=freqs, n_cycles=n_cycles, \n",
    "                                           use_fft=True, average=True,\n",
    "                                           return_itc=False, decim=3, n_jobs=1)"
   ]
  },
  {
   "cell_type": "markdown",
   "metadata": {},
   "source": [
    "### Extract the features of interest. Compute  the average across frequencies for each band  (theta, alpha, beta) "
   ]
  },
  {
   "cell_type": "code",
   "execution_count": null,
   "metadata": {},
   "outputs": [],
   "source": [
    "# Relax Imagery Condition - Alpha Activity\n",
    "\n",
    "relax_pow_a = [] #store the power average for each channel  \n",
    "\n",
    "for chan in range(0, len(epochs['Relax'].ch_names)): #for each sample in the range 0-14\n",
    "    pow_ar = power_r.data[chan][(power_r.freqs>=8) & (power_r.freqs<12)] #select the alpha band freqs range\n",
    "    pow_avg_ar = np.mean(pow_ar, axis=0) #compute the average\n",
    "    relax_pow_a.append(pow_avg_ar) \n",
    "    "
   ]
  },
  {
   "cell_type": "code",
   "execution_count": null,
   "metadata": {},
   "outputs": [],
   "source": [
    "# Relax Imagery Condition - Beta Activity\n",
    "\n",
    "relax_pow_b = [] #store the power average for each channel  \n",
    "\n",
    "for chan in range(0, len(epochs['Relax'].ch_names)): #for each sample in the range 0-14\n",
    "    pow_br = power_r.data[chan][(power_r.freqs>=13) & (power_r.freqs<30)] #select the beta band freqs range\n",
    "    pow_avg_br = np.mean(pow_br, axis=0) #compute the average\n",
    "    relax_pow_b.append(pow_avg_br)  \n",
    "    \n",
    "    "
   ]
  },
  {
   "cell_type": "code",
   "execution_count": null,
   "metadata": {},
   "outputs": [],
   "source": [
    "# Relax Imagery Condition - Theta Activity\n",
    "\n",
    "relax_pow_t = [] #store the power average for each channel  \n",
    "\n",
    "for chan in range(0, len(epochs['Relax'].ch_names)): #for each sample in the range 0-14\n",
    "    pow_tr = power_r.data[chan][(power_r.freqs>=4) & (power_r.freqs<7)] #select the beta band freqs range\n",
    "    pow_avg_tr = np.mean(pow_tr, axis=0) #compute the average\n",
    "    relax_pow_t.append(pow_avg_tr)  "
   ]
  },
  {
   "cell_type": "code",
   "execution_count": null,
   "metadata": {},
   "outputs": [],
   "source": [
    "# Push Imagery Condition - Alpha Activity\n",
    "\n",
    "push_pow_a = []\n",
    "\n",
    "for chan in range(0, len(epochs['Push'].ch_names)):\n",
    "    pow_ap = power_p.data[chan][(power_p.freqs>=8) & (power_p.freqs<12)] \n",
    "    pow_avg_ap = np.mean(pow_ap, axis=0)\n",
    "    push_pow_a.append(pow_avg_ap)"
   ]
  },
  {
   "cell_type": "code",
   "execution_count": null,
   "metadata": {},
   "outputs": [],
   "source": [
    "# Push Imagery Condition - Beta Activity\n",
    "\n",
    "push_pow_b = []\n",
    "\n",
    "for chan in range(0, len(epochs['Push'].ch_names)):\n",
    "    pow_bp = power_p.data[chan][(power_p.freqs>=13) & (power_p.freqs<30)] \n",
    "    pow_avg_bp = np.mean(pow_bp, axis=0)\n",
    "    push_pow_b.append(pow_avg_bp)"
   ]
  },
  {
   "cell_type": "code",
   "execution_count": null,
   "metadata": {},
   "outputs": [],
   "source": [
    "# Push Imagery Condition - Theta Activity\n",
    "\n",
    "push_pow_t = []\n",
    "\n",
    "for chan in range(0, len(epochs['Push'].ch_names)):\n",
    "    pow_tp = power_p.data[chan][(power_p.freqs>=4) & (power_p.freqs<7)] \n",
    "    pow_avg_tp = np.mean(pow_tp, axis=0)\n",
    "    push_pow_t.append(pow_avg_tp)"
   ]
  },
  {
   "cell_type": "code",
   "execution_count": null,
   "metadata": {},
   "outputs": [],
   "source": [
    "time=1000 * power_r.times #define the time vector in ms\n",
    "channels=epochs.info['ch_names'] #store the channels' names"
   ]
  },
  {
   "cell_type": "code",
   "execution_count": null,
   "metadata": {},
   "outputs": [],
   "source": [
    "#Save the plots - Remember to create the folder and change the variable \"script_dir\" \n",
    "\n",
    "#Alpha Activity\n",
    "\n",
    "script_dir = '.../Desktop/plots_/TFR/alpha/' #specify where you want to save the plots\n",
    "\n",
    "for chan in range(0,len(channels)):\n",
    "    plt.figure()\n",
    "    plt.plot(time,relax_pow_a[chan]) #relax task\n",
    "    plt.plot(time, push_pow_a[chan]) #push task\n",
    "    plt.legend([\"Relax\", \"Push\"]) \n",
    "    plt.title('Alpha Band - Channel {} '.format(channels[chan]))\n",
    "    #plt.show()\n",
    "    filename = \"Figure{}.png\".format(chan)\n",
    "    plt.savefig(script_dir + filename)\n"
   ]
  },
  {
   "cell_type": "code",
   "execution_count": null,
   "metadata": {},
   "outputs": [],
   "source": [
    "#Beta\n",
    "\n",
    "script_dir = '.../Desktop/plots_/TFR/beta/'\n",
    "\n",
    "\n",
    "for chan in range(0,len(channels)):\n",
    "    plt.figure()\n",
    "    plt.plot(time,relax_pow_b[chan]) \n",
    "    plt.plot(time, push_pow_b[chan]) \n",
    "    plt.legend([\"Relax\", \"Push\"])\n",
    "    plt.title('Beta Band - Channel {} '.format(channels[chan]))\n",
    "    #plt.show()  \n",
    "    filename = \"Figure{}.png\".format(chan)\n",
    "    plt.savefig(script_dir + filename)\n",
    "    "
   ]
  },
  {
   "cell_type": "code",
   "execution_count": null,
   "metadata": {},
   "outputs": [],
   "source": [
    "#Theta\n",
    "\n",
    "script_dir = '.../Desktop/plots_/TFR/alpha/'\n",
    "\n",
    "for chan in range(0,len(channels)):  \n",
    "    plt.figure()  \n",
    "    plt.plot(time,relax_pow_t[chan])  \n",
    "    plt.plot(time, push_pow_t[chan]) \n",
    "    plt.legend([\"Relax\", \"Push\"])\n",
    "    plt.title('Theta Band - Channel {} '.format(channels[chan]))\n",
    "    #plt.show()\n",
    "    filename = \"Figure{}.png\".format(chan)\n",
    "    plt.savefig(script_dir + filename)"
   ]
  },
  {
   "cell_type": "markdown",
   "metadata": {},
   "source": [
    "### Compute the TFR analysis directly on a numpy array "
   ]
  },
  {
   "cell_type": "code",
   "execution_count": null,
   "metadata": {},
   "outputs": [],
   "source": [
    "freqs = np.logspace(*np.log10([4, 27]), num=40) # define frequencies of interest (log-spaced)  \n",
    "n_cycles =freqs / 2. #define number of cycles\n",
    "sfreq=epochs['Push'].info['sfreq'] #extract the sampling rate\n",
    "\n",
    "power_relax = tfr_array_morlet(epochs['Relax'].get_data(), sfreq=sfreq, \n",
    "                               freqs=freqs, n_cycles=n_cycles, output='avg_power')\n",
    "\n",
    "power_push = tfr_array_morlet(epochs['Push'].get_data(), sfreq=sfreq,\n",
    "                         freqs=freqs, n_cycles=n_cycles, output='avg_power')\n",
    "\n"
   ]
  },
  {
   "cell_type": "code",
   "execution_count": null,
   "metadata": {},
   "outputs": [],
   "source": [
    "# Save the Plots from the Push Imagery Condition\n",
    "\n",
    "channels=epochs['Push'].info['ch_names']\n",
    "script_dir = '.../Desktop/plots_/TFR/TFR_array/Push/'\n",
    "\n",
    "for chan in range(0,len(channels)):\n",
    "    fig, ax = plt.subplots()\n",
    "    x, y = centers_to_edges(epochs['Push'].times * 1000, freqs)\n",
    "    mesh = ax.pcolormesh(x, y, power_push[chan], cmap='RdBu_r')  \n",
    "    ax.set_title('Push - Channel {}'.format(channels[chan]))\n",
    "    ax.set(ylim=freqs[[0, -1]], xlabel='Time (ms)', ylabel='Frequency [Hz]')\n",
    "    fig.colorbar(mesh)\n",
    "    #plt.show()\n",
    "    filename = \"Figure{}.png\".format(chan)\n",
    "    plt.savefig(script_dir + filename)"
   ]
  },
  {
   "cell_type": "code",
   "execution_count": null,
   "metadata": {},
   "outputs": [],
   "source": [
    "# Save the Plots from the Relax Imagery Condition\n",
    "\n",
    "channels=epochs['Push'].info['ch_names']\n",
    "script_dir = '.../Desktop/plots_/TFR/TFR_array/Relax/'\n",
    "\n",
    "for chan in range(0,len(channels)):\n",
    "    fig, ax = plt.subplots()\n",
    "    x, y = centers_to_edges(epochs['Relax'].times * 1000, freqs)\n",
    "    mesh = ax.pcolormesh(x, y, power_relax[chan], cmap='RdBu_r') #choose the channel\n",
    "    ax.set_title('Relax - Channel {}'.format(channels[chan]))\n",
    "    ax.set(ylim=freqs[[0, -1]], xlabel='Time (ms)', ylabel='Frequency [Hz]')\n",
    "    fig.colorbar(mesh)\n",
    "    #plt.show()\n",
    "    filename = \"Figure{}.png\".format(chan)\n",
    "    plt.savefig(script_dir + filename)"
   ]
  },
  {
   "cell_type": "code",
   "execution_count": null,
   "metadata": {},
   "outputs": [],
   "source": [
    "#Alternative visualisation\n",
    "bands = [(4, '4 Hz'),(5, '5 Hz'),(6, '6 Hz'),(7, '7 Hz'), (8, '8 Hz'), (10, '10 Hz'), (12, '12 Hz'), (15, '15 Hz'), (20, '20 Hz'), (10, 20, '10-20 Hz')]\n",
    "epochs['Push'].plot_psd_topomap(bands=bands, vlim='joint', ch_type='eeg', normalize=False)"
   ]
  }
 ],
 "metadata": {
  "kernelspec": {
   "display_name": "Python 3",
   "language": "python",
   "name": "python3"
  },
  "language_info": {
   "codemirror_mode": {
    "name": "ipython",
    "version": 3
   },
   "file_extension": ".py",
   "mimetype": "text/x-python",
   "name": "python",
   "nbconvert_exporter": "python",
   "pygments_lexer": "ipython3",
   "version": "3.8.5"
  }
 },
 "nbformat": 4,
 "nbformat_minor": 4
}
