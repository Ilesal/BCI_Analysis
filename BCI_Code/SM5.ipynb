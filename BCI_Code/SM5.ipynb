{
 "cells": [
  {
   "cell_type": "markdown",
   "metadata": {},
   "source": [
    "# EEG-based BCI using Visual Imagery and Emotiv Epoc X:  An Exploratory Study"
   ]
  },
  {
   "cell_type": "markdown",
   "metadata": {},
   "source": [
    "## Computational Cognitive Neuroscience 2020/2021"
   ]
  },
  {
   "cell_type": "markdown",
   "metadata": {},
   "source": [
    "### Decoding analysis using time-frequency features with SVM, LR, LDA, RF"
   ]
  },
  {
   "cell_type": "markdown",
   "metadata": {},
   "source": [
    "### In this notebook, features from all 14-channels are taken into account"
   ]
  },
  {
   "cell_type": "markdown",
   "metadata": {},
   "source": [
    "### Import Libraries"
   ]
  },
  {
   "cell_type": "code",
   "execution_count": 1,
   "metadata": {},
   "outputs": [],
   "source": [
    "%%capture libraries   \n",
    "\n",
    "import sys\n",
    "import os\n",
    "!{sys.executable} -m pip install numpy\n",
    "!{sys.executable} -m pip install mne\n",
    "!{sys.executable} -m pip install mne-features\n",
    "import numpy as np\n",
    "import matplotlib \n",
    "import pathlib\n",
    "import mne\n",
    "import seaborn as sns\n",
    "import pandas as pd\n",
    "from mne.io import concatenate_raws, read_raw_edf\n",
    "from mne import Epochs, create_info, events_from_annotations\n",
    "from mne.preprocessing import ICA, create_eog_epochs, create_ecg_epochs,corrmap\n",
    "from mne.time_frequency import tfr_morlet, psd_multitaper, psd_welch, tfr_stockwell,tfr_multitaper,tfr_array_morlet,AverageTFR\n",
    "from scipy import signal\n",
    "from scipy.integrate import simps\n",
    "matplotlib.use('Qt5Agg') #allow interactive plots\n",
    "import matplotlib.pyplot as plt\n",
    "from mne.decoding import GeneralizingEstimator, Scaler,cross_val_multiscore, LinearModel, get_coef, Vectorizer, CSP, SlidingEstimator\n",
    "from mne.viz import centers_to_edges\n",
    "from mne.baseline import rescale\n",
    "from sklearn import metrics\n",
    "from sklearn.preprocessing import StandardScaler, LabelEncoder\n",
    "from sklearn.pipeline import Pipeline, make_pipeline\n",
    "from sklearn.model_selection import cross_val_score, train_test_split, GridSearchCV, StratifiedKFold, ShuffleSplit\n",
    "from sklearn.metrics import confusion_matrix, classification_report, accuracy_score, precision_recall_fscore_support, precision_recall_curve, average_precision_score, plot_precision_recall_curve, ConfusionMatrixDisplay, roc_curve\n",
    "from sklearn.ensemble import RandomForestClassifier\n",
    "from sklearn.inspection import permutation_importance\n",
    "from sklearn.metrics import plot_roc_curve, accuracy_score,precision_score,recall_score,f1_score,roc_auc_score\n",
    "from sklearn.neighbors import KNeighborsClassifier\n",
    "from sklearn import svm\n",
    "from sklearn.discriminant_analysis import LinearDiscriminantAnalysis\n",
    "from sklearn.linear_model import LogisticRegression\n",
    "%SM1.ipynb import load_data, excl_chan, filter_data, make_epochs, plot_data, epochs_power"
   ]
  },
  {
   "cell_type": "markdown",
   "metadata": {},
   "source": [
    "### Load the cleaned epoched dataset"
   ]
  },
  {
   "cell_type": "code",
   "execution_count": 2,
   "metadata": {},
   "outputs": [
    {
     "name": "stdout",
     "output_type": "stream",
     "text": [
      "Reading epoched_data_280-epo.fif ...\n",
      "    Found the data of interest:\n",
      "        t =     250.00 ...    9746.09 ms\n",
      "        0 CTF compensation matrices available\n",
      "Not setting metadata\n",
      "Not setting metadata\n",
      "280 matching events found\n",
      "No baseline correction applied\n",
      "0 projection items activated\n"
     ]
    }
   ],
   "source": [
    "epochs_all= mne.read_epochs('epoched_data_280-epo.fif', preload=True) #data from all channels"
   ]
  },
  {
   "cell_type": "code",
   "execution_count": 3,
   "metadata": {},
   "outputs": [
    {
     "name": "stdout",
     "output_type": "stream",
     "text": [
      "(280, 14, 2432)\n"
     ]
    }
   ],
   "source": [
    "#check the shape, it should be (280,14,2432) n_epochs, n_channels, n_timepoints because we are considering all the channels\n",
    "print(epochs_all.get_data().shape)  "
   ]
  },
  {
   "cell_type": "markdown",
   "metadata": {},
   "source": [
    "#### Equalize the number of epochs count in each condition \n",
    "\n"
   ]
  },
  {
   "cell_type": "code",
   "execution_count": 4,
   "metadata": {},
   "outputs": [
    {
     "name": "stdout",
     "output_type": "stream",
     "text": [
      "Dropped 4 epochs: 132, 167, 204, 271\n",
      "<class 'mne.epochs.EpochsFIF'>\n",
      "(276, 14, 2432)\n"
     ]
    }
   ],
   "source": [
    "mne.Epochs.equalize_event_counts(epochs_all, event_ids=epochs_all.event_id)\n",
    "print(type(epochs_all)) #double-check it's EpochsFIF\n",
    "print(epochs_all.get_data().shape)"
   ]
  },
  {
   "cell_type": "markdown",
   "metadata": {},
   "source": [
    "### Firstly, compute Time-Frequency Analysis (TFR) using Morlet Wavelet Transfom:"
   ]
  },
  {
   "cell_type": "code",
   "execution_count": 5,
   "metadata": {},
   "outputs": [
    {
     "name": "stdout",
     "output_type": "stream",
     "text": [
      "Not setting metadata\n",
      "(276, 14, 40, 811)\n"
     ]
    }
   ],
   "source": [
    "freqs = np.logspace(*np.log10([2, 30]), num=40) # define frequencies of interest (log-spaced) \n",
    "n_cycles = freqs / 2.  # different number of cycle per frequency\n",
    "\n",
    "power_all = mne.time_frequency.tfr_morlet(epochs_all, freqs=freqs, n_cycles=n_cycles, use_fft=True, average=False,\n",
    "                                           return_itc=False, decim=3, n_jobs=1)  \n",
    " \n",
    "print(power_all.data.shape)"
   ]
  },
  {
   "cell_type": "code",
   "execution_count": 7,
   "metadata": {},
   "outputs": [],
   "source": [
    "#Extract TFR features in Theta band (4-7Hz)\n",
    "\n",
    "n_col= power_all.data.shape[3] #extract n columns from power_all\n",
    "n_chan=power_all.data.shape[1] #extract n channels\n",
    "n_row= power_all.data.shape[0] #extract n rows\n",
    "\n",
    "\n",
    "theta_pow_all = np.zeros(shape=(n_row,n_chan,n_col))  \n",
    "counter=0\n",
    "for samples in range (0,n_row):\n",
    "    for chan in range(0, n_chan):\n",
    "        pow_t = power_all.data[samples][chan][(power_all.freqs>=4) & (power_all.freqs<7)][:]  \n",
    "        counter+=1\n",
    "        pow_avg_t = np.mean(pow_t, axis=0) \n",
    "        theta_pow_all[samples,chan,:]=pow_avg_t\n",
    "        "
   ]
  },
  {
   "cell_type": "code",
   "execution_count": 36,
   "metadata": {},
   "outputs": [],
   "source": [
    "#Extract TFR features in Alpha band (8-12Hz)\n",
    "\n",
    "n_col= power_all.data.shape[3] #extract n columns from pw output\n",
    "n_chan=power_all.data.shape[1] #extract n channels\n",
    "n_row= power_all.data.shape[0] #extract n rows\n",
    "\n",
    "alpha_pow_all = np.zeros(shape=(n_row,n_chan,n_col))   \n",
    "counter=0\n",
    "for samples in range (0,n_row):\n",
    "    for chan in range(0, n_chan): \n",
    "        pow_a = power_all.data[samples][chan][(power_all.freqs>=8) & (power_all.freqs<12)][:]  \n",
    "        counter+=1\n",
    "        pow_avg_a = np.mean(pow_a, axis=0)  \n",
    "        alpha_pow_all[samples,chan,:]=pow_avg_a"
   ]
  },
  {
   "cell_type": "code",
   "execution_count": 66,
   "metadata": {},
   "outputs": [],
   "source": [
    "#Extract TFR features in Beta band (13-30Hz)\n",
    "\n",
    "n_col= power_all.data.shape[3] #extract n columns from pw output\n",
    "n_chan=power_all.data.shape[1] #extract n channels\n",
    "n_row= power_all.data.shape[0] #extract n rows\n",
    "\n",
    "beta_pow_all = np.zeros(shape=(n_row,n_chan,n_col))    \n",
    "counter=0\n",
    "for samples in range (0,n_row):\n",
    "    for chan in range(0, n_chan): \n",
    "        pow_b = power_all.data[samples][chan][(power_all.freqs>=13) & (power_all.freqs<30)][:]  \n",
    "        counter+=1\n",
    "        pow_avg_b = np.mean(pow_b, axis=0)  \n",
    "        beta_pow_all[samples,chan,:]=pow_avg_b"
   ]
  },
  {
   "cell_type": "markdown",
   "metadata": {},
   "source": [
    "### Prepare the dataset to fed into the classifiers:\n",
    "\n"
   ]
  },
  {
   "cell_type": "markdown",
   "metadata": {},
   "source": [
    "Firstly, initialise the below variables to store the accuracies from all classifiers:"
   ]
  },
  {
   "cell_type": "code",
   "execution_count": 8,
   "metadata": {},
   "outputs": [],
   "source": [
    "accuracies, f1_scores = [], [] #run this cell only once"
   ]
  },
  {
   "cell_type": "code",
   "execution_count": 68,
   "metadata": {},
   "outputs": [],
   "source": [
    "#Uncomment the dataset to use\n",
    "\n",
    "#data=theta_pow_all\n",
    "#data=alpha_pow_all\n",
    "data= beta_pow_all   \n",
    "\n",
    "labels = epochs_all.events[:,-1] #our labels"
   ]
  },
  {
   "cell_type": "code",
   "execution_count": 39,
   "metadata": {},
   "outputs": [
    {
     "name": "stdout",
     "output_type": "stream",
     "text": [
      "(276, 14, 811)\n",
      "(276,)\n"
     ]
    }
   ],
   "source": [
    "#Double-check the shape \n",
    "\n",
    "print(np.shape(data))\n",
    "print(np.shape(labels))"
   ]
  },
  {
   "cell_type": "markdown",
   "metadata": {},
   "source": [
    " Split the dataset into training and testing with a 70:30 ratio (Training:Test):\n"
   ]
  },
  {
   "cell_type": "code",
   "execution_count": 70,
   "metadata": {},
   "outputs": [],
   "source": [
    "#specifiy a random state to replicate the result\n",
    "\n",
    "train_data, test_data, labels_train, labels_test = train_test_split(data, labels, test_size=0.30, random_state=93) \n"
   ]
  },
  {
   "cell_type": "markdown",
   "metadata": {},
   "source": [
    "### Define the Support Vector Machine(SVM)"
   ]
  },
  {
   "cell_type": "code",
   "execution_count": 71,
   "metadata": {},
   "outputs": [
    {
     "name": "stdout",
     "output_type": "stream",
     "text": [
      "Best Parameters: {'svc__C': 0.1, 'svc__gamma': 0.01, 'svc__kernel': 'sigmoid'}\n",
      "Best Score: 0.553421052631579\n",
      "SVM Clasification Report:\n",
      "               precision    recall  f1-score   support\n",
      "\n",
      "       Relax       0.55      0.60      0.57        40\n",
      "        Push       0.59      0.53      0.56        43\n",
      "\n",
      "    accuracy                           0.57        83\n",
      "   macro avg       0.57      0.57      0.57        83\n",
      "weighted avg       0.57      0.57      0.57        83\n",
      "\n",
      "Accuracy of SVM model: 0.5662650602409639\n",
      "Precision: 0.5675990675990676, Recall: 0.5674418604651162, f1-score:0.5662020905923344\n"
     ]
    }
   ],
   "source": [
    "clf_svm_pip = make_pipeline(Vectorizer(), StandardScaler(), svm.SVC(probability=True))  #define pipeline\n",
    "parameters = {'svc__kernel':['linear','rbf', 'sigmoid'], 'svc__C':[0.1, 1, 10], 'svc__gamma':[0.1,0.01,0.001]}\n",
    "#Apply GridSearchCV to identify the best parameters\n",
    "gs_cv_svm = GridSearchCV(clf_svm_pip, parameters, scoring='accuracy', cv=StratifiedKFold(n_splits=10), return_train_score=True) \n",
    "\n",
    "#Training is done by passing the training data and their labels to fit() function.\n",
    "\n",
    "gs_cv_svm.fit(train_data, labels_train)\n",
    "print('Best Parameters: {}'.format(gs_cv_svm.best_params_))\n",
    "print('Best Score: {}'.format(gs_cv_svm.best_score_))\n",
    "\n",
    "\n",
    "predictions_svm = gs_cv_svm.predict(test_data)\n",
    "\n",
    "#Evaluate\n",
    "report_svm = classification_report(labels_test, predictions_svm, target_names=['Relax', 'Push'])\n",
    "print('SVM Clasification Report:\\n {}'.format(report_svm))\n",
    "\n",
    "acc_svm = accuracy_score(labels_test, predictions_svm)\n",
    "print(\"Accuracy of SVM model: {}\".format(acc_svm))\n",
    "\n",
    "precision_svm,recall_svm,fscore_svm,support_svm=precision_recall_fscore_support(labels_test,predictions_svm,average='macro')\n",
    "print('Precision: {0}, Recall: {1}, f1-score:{2}'.format(precision_svm,recall_svm,fscore_svm))"
   ]
  },
  {
   "cell_type": "code",
   "execution_count": 72,
   "metadata": {},
   "outputs": [
    {
     "name": "stdout",
     "output_type": "stream",
     "text": [
      "ROC AUC: 0.567442\n"
     ]
    }
   ],
   "source": [
    "#Area Under Curve (AUC) value\n",
    "auc = roc_auc_score(labels_test, predictions_svm)\n",
    "print('ROC AUC: %f' % auc)"
   ]
  },
  {
   "cell_type": "code",
   "execution_count": 73,
   "metadata": {},
   "outputs": [
    {
     "data": {
      "image/png": "[encoded data removed]",
      "text/plain": [
       "<Figure size 432x288 with 1 Axes>"
      ]
     },
     "metadata": {
      "needs_background": "light"
     },
     "output_type": "display_data"
    }
   ],
   "source": [
    "#ROC result\n",
    "svm_roc = plot_roc_curve(gs_cv_svm, test_data, labels_test)  "
   ]
  },
  {
   "cell_type": "code",
   "execution_count": 74,
   "metadata": {},
   "outputs": [
    {
     "data": {
      "image/png": "[encoded data removed]",
      "text/plain": [
       "<Figure size 432x288 with 1 Axes>"
      ]
     },
     "metadata": {
      "needs_background": "light"
     },
     "output_type": "display_data"
    }
   ],
   "source": [
    "#Precision-Recall result\n",
    "svm_pr = plot_precision_recall_curve(gs_cv_svm, test_data, labels_test) #precision-recall curve"
   ]
  },
  {
   "cell_type": "code",
   "execution_count": 75,
   "metadata": {},
   "outputs": [
    {
     "name": "stdout",
     "output_type": "stream",
     "text": [
      "Average absolute error: 0.43 degrees.\n"
     ]
    }
   ],
   "source": [
    "# Performance metrics\n",
    "errors_svc = abs(predictions_svm - labels_test)\n",
    "print('Average absolute error:', round(np.mean(errors_svc), 2), 'degrees.')"
   ]
  },
  {
   "cell_type": "markdown",
   "metadata": {},
   "source": [
    "### Linear Discriminant Analysis (LDA)"
   ]
  },
  {
   "cell_type": "code",
   "execution_count": 76,
   "metadata": {},
   "outputs": [
    {
     "name": "stdout",
     "output_type": "stream",
     "text": [
      "Best Parameters: {'lineardiscriminantanalysis__solver': 'svd'}\n",
      "Best Score: 0.5584210526315789\n",
      "LDA Clasification Report:\n",
      "               precision    recall  f1-score   support\n",
      "\n",
      "       Relax       0.57      0.50      0.53        40\n",
      "        Push       0.58      0.65      0.62        43\n",
      "\n",
      "    accuracy                           0.58        83\n",
      "   macro avg       0.58      0.58      0.57        83\n",
      "weighted avg       0.58      0.58      0.58        83\n",
      "\n",
      "Accuracy of LDA model: 0.5783132530120482\n",
      "Precision: 0.5773809523809523, Recall: 0.5755813953488372, f1-score:0.5743589743589744\n"
     ]
    }
   ],
   "source": [
    "clf_lda_pip = make_pipeline(Vectorizer(), StandardScaler(), LinearDiscriminantAnalysis())\n",
    "parameters = {'lineardiscriminantanalysis__solver':['svd']}\n",
    "gs_cv_lda = GridSearchCV(clf_lda_pip, parameters, scoring='accuracy', cv=StratifiedKFold(n_splits=10), return_train_score=True) \n",
    "gs_cv_lda.fit(train_data,labels_train)\n",
    " \n",
    "print('Best Parameters: {}'.format(gs_cv_lda.best_params_))\n",
    "print('Best Score: {}'.format(gs_cv_lda.best_score_))\n",
    "\n",
    "\n",
    "#Predictions\n",
    "predictions_lda = gs_cv_lda.predict(test_data)\n",
    "\n",
    "#Evaluation\n",
    "report_lda = classification_report(labels_test, predictions_lda, target_names=['Relax', 'Push'])\n",
    "print('LDA Clasification Report:\\n {}'.format(report_lda))\n",
    "\n",
    "acc_lda = accuracy_score(labels_test, predictions_lda)\n",
    "print(\"Accuracy of LDA model: {}\".format(acc_lda))\n",
    "\n",
    "precision_lda,recall_lda,fscore_lda,support_lda=precision_recall_fscore_support(labels_test,predictions_lda,average='macro')\n",
    "print('Precision: {0}, Recall: {1}, f1-score:{2}'.format(precision_lda,recall_lda,fscore_lda))"
   ]
  },
  {
   "cell_type": "code",
   "execution_count": 77,
   "metadata": {},
   "outputs": [
    {
     "name": "stdout",
     "output_type": "stream",
     "text": [
      "ROC AUC: 0.575581\n"
     ]
    }
   ],
   "source": [
    "#Area Under Curve (AUC) value\n",
    "auc = roc_auc_score(labels_test, predictions_lda)\n",
    "print('ROC AUC: %f' % auc)"
   ]
  },
  {
   "cell_type": "code",
   "execution_count": 78,
   "metadata": {},
   "outputs": [
    {
     "data": {
      "image/png": "[encoded data removed]",
      "text/plain": [
       "<Figure size 432x288 with 1 Axes>"
      ]
     },
     "metadata": {
      "needs_background": "light"
     },
     "output_type": "display_data"
    }
   ],
   "source": [
    "#ROC \n",
    "lda_roc = plot_roc_curve(gs_cv_lda, test_data, labels_test) "
   ]
  },
  {
   "cell_type": "code",
   "execution_count": 79,
   "metadata": {},
   "outputs": [
    {
     "data": {
      "image/png": "[encoded data removed]",
      "text/plain": [
       "<Figure size 432x288 with 1 Axes>"
      ]
     },
     "metadata": {
      "needs_background": "light"
     },
     "output_type": "display_data"
    }
   ],
   "source": [
    "#Precision-Recall \n",
    "lda_pr = plot_precision_recall_curve(gs_cv_lda,test_data, labels_test)  "
   ]
  },
  {
   "cell_type": "code",
   "execution_count": 80,
   "metadata": {},
   "outputs": [
    {
     "name": "stdout",
     "output_type": "stream",
     "text": [
      "Average absolute error: 0.42 degrees.\n"
     ]
    }
   ],
   "source": [
    "# Performance metrics\n",
    "errors_lda = abs(predictions_lda - labels_test)\n",
    "print('Average absolute error:', round(np.mean(errors_lda), 2), 'degrees.')"
   ]
  },
  {
   "cell_type": "markdown",
   "metadata": {},
   "source": [
    "### Logistic Regression (LR)"
   ]
  },
  {
   "cell_type": "code",
   "execution_count": 81,
   "metadata": {},
   "outputs": [
    {
     "name": "stdout",
     "output_type": "stream",
     "text": [
      "Best Parameters: {'logisticregression__C': 464.1588833612782}\n",
      "Best Score: 0.5171052631578947\n",
      "LR Clasification Report:\n",
      "               precision    recall  f1-score   support\n",
      "\n",
      "       Relax       0.56      0.47      0.51        40\n",
      "        Push       0.57      0.65      0.61        43\n",
      "\n",
      "    accuracy                           0.57        83\n",
      "   macro avg       0.57      0.56      0.56        83\n",
      "weighted avg       0.57      0.57      0.56        83\n",
      "\n",
      "Accuracy of LR model: 0.5662650602409639\n",
      "Precision: 0.5651260504201681, Recall: 0.5630813953488372, f1-score:0.5611045828437133\n"
     ]
    }
   ],
   "source": [
    "clf_lr_pip = make_pipeline(Vectorizer(), StandardScaler(), LogisticRegression(max_iter=5000))\n",
    "parameters ={'logisticregression__C': np.logspace(0, 4, 100)}  \n",
    "\n",
    "\n",
    "gs_cv_lr = GridSearchCV(clf_lr_pip, parameters, scoring='accuracy', cv=StratifiedKFold(n_splits=10))\n",
    "gs_cv_lr.fit(train_data, labels_train)\n",
    "\n",
    "print('Best Parameters: {}'.format(gs_cv_lr.best_params_))\n",
    "print('Best Score: {}'.format(gs_cv_lr.best_score_))\n",
    "\n",
    "#Predictions\n",
    "predictions_lr = gs_cv_lr.predict(test_data)\n",
    "\n",
    "#Evaluation\n",
    "report_lr = classification_report(labels_test, predictions_lr, target_names=['Relax', 'Push'])\n",
    "print('LR Clasification Report:\\n {}'.format(report_lr))\n",
    "\n",
    "acc_lr = accuracy_score(labels_test, predictions_lr)\n",
    "print(\"Accuracy of LR model: {}\".format(acc_lr))\n",
    "\n",
    "precision_lr,recall_lr,fscore_lr,support_lr=precision_recall_fscore_support(labels_test,predictions_lr,average='macro')\n",
    "print('Precision: {0}, Recall: {1}, f1-score:{2}'.format(precision_lr,recall_lr,fscore_lr))"
   ]
  },
  {
   "cell_type": "code",
   "execution_count": 82,
   "metadata": {},
   "outputs": [
    {
     "name": "stdout",
     "output_type": "stream",
     "text": [
      "ROC AUC: 0.563081\n"
     ]
    }
   ],
   "source": [
    "#Area Under Curve (AUC) value\n",
    "auc = roc_auc_score(labels_test, predictions_lr)\n",
    "print('ROC AUC: %f' % auc)"
   ]
  },
  {
   "cell_type": "code",
   "execution_count": 83,
   "metadata": {},
   "outputs": [
    {
     "data": {
      "image/png": "[encoded data removed]",
      "text/plain": [
       "<Figure size 432x288 with 1 Axes>"
      ]
     },
     "metadata": {
      "needs_background": "light"
     },
     "output_type": "display_data"
    }
   ],
   "source": [
    "#ROC\n",
    "lr_roc = plot_roc_curve(gs_cv_lr, test_data, labels_test)  "
   ]
  },
  {
   "cell_type": "code",
   "execution_count": 84,
   "metadata": {},
   "outputs": [
    {
     "data": {
      "image/png": "[encoded data removed]",
      "text/plain": [
       "<Figure size 432x288 with 1 Axes>"
      ]
     },
     "metadata": {
      "needs_background": "light"
     },
     "output_type": "display_data"
    }
   ],
   "source": [
    "#Precision\n",
    "lr_pr = plot_precision_recall_curve(gs_cv_lr, test_data, labels_test)  "
   ]
  },
  {
   "cell_type": "code",
   "execution_count": 85,
   "metadata": {},
   "outputs": [
    {
     "name": "stdout",
     "output_type": "stream",
     "text": [
      "Average absolute error: 0.43 degrees.\n"
     ]
    }
   ],
   "source": [
    "# Performance metrics\n",
    "errors_lr = abs(predictions_lr - labels_test)\n",
    "print('Average absolute error:', round(np.mean(errors_lr), 2), 'degrees.')"
   ]
  },
  {
   "cell_type": "markdown",
   "metadata": {},
   "source": [
    "### Random Forest (RF)"
   ]
  },
  {
   "cell_type": "code",
   "execution_count": 86,
   "metadata": {},
   "outputs": [
    {
     "name": "stdout",
     "output_type": "stream",
     "text": [
      "Best Parameters: {'randomforestclassifier__criterion': 'entropy', 'randomforestclassifier__max_depth': 1, 'randomforestclassifier__n_estimators': 600}\n",
      "Best Score: 0.605263157894737\n",
      "RF Clasification Report:\n",
      "               precision    recall  f1-score   support\n",
      "\n",
      "       Relax       0.55      0.70      0.62        40\n",
      "        Push       0.62      0.47      0.53        43\n",
      "\n",
      "    accuracy                           0.58        83\n",
      "   macro avg       0.59      0.58      0.57        83\n",
      "weighted avg       0.59      0.58      0.57        83\n",
      "\n",
      "Accuracy of RF model: 0.5783132530120482\n",
      "Precision: 0.5870098039215687, Recall: 0.5825581395348837, f1-score:0.5743589743589744\n"
     ]
    }
   ],
   "source": [
    "clf_rf_pip = make_pipeline(Vectorizer(), StandardScaler(), RandomForestClassifier()) \n",
    "parameters = {'randomforestclassifier__n_estimators':[100,200,300,400,500,600,700], 'randomforestclassifier__criterion':['gini','entropy'], 'randomforestclassifier__max_depth':[1,2,3,4,5]} \n",
    "gs_cv_rf = GridSearchCV(clf_rf_pip, parameters, scoring='accuracy', cv=StratifiedKFold(n_splits=10), return_train_score=True)  \n",
    "gs_cv_rf.fit(train_data,labels_train)\n",
    "\n",
    "print('Best Parameters: {}'.format(gs_cv_rf.best_params_))\n",
    "print('Best Score: {}'.format(gs_cv_rf.best_score_))\n",
    "\n",
    "predictions_rf = gs_cv_rf.predict(test_data)\n",
    "\n",
    "#Evaluation\n",
    "report_rf = classification_report(labels_test, predictions_rf, target_names=['Relax', 'Push'])\n",
    "print('RF Clasification Report:\\n {}'.format(report_rf))\n",
    "\n",
    "acc_rf = accuracy_score(labels_test, predictions_rf)\n",
    "print(\"Accuracy of RF model: {}\".format(acc_rf))\n",
    "\n",
    "precision_rf,recall_rf,fscore_rf,support_rf=precision_recall_fscore_support(labels_test,predictions_rf,average='macro')\n",
    "print('Precision: {0}, Recall: {1}, f1-score:{2}'.format(precision_rf,recall_rf,fscore_rf))"
   ]
  },
  {
   "cell_type": "code",
   "execution_count": 87,
   "metadata": {},
   "outputs": [
    {
     "name": "stdout",
     "output_type": "stream",
     "text": [
      "ROC AUC: 0.582558\n"
     ]
    }
   ],
   "source": [
    "#Area Under Curve (AUC) value\n",
    "auc = roc_auc_score(labels_test, predictions_rf)\n",
    "print('ROC AUC: %f' % auc)"
   ]
  },
  {
   "cell_type": "code",
   "execution_count": 88,
   "metadata": {},
   "outputs": [
    {
     "data": {
      "image/png": "[encoded data removed]",
      "text/plain": [
       "<Figure size 432x288 with 1 Axes>"
      ]
     },
     "metadata": {
      "needs_background": "light"
     },
     "output_type": "display_data"
    }
   ],
   "source": [
    "#ROC\n",
    "rf_roc = plot_roc_curve(gs_cv_rf, test_data, labels_test) "
   ]
  },
  {
   "cell_type": "code",
   "execution_count": 89,
   "metadata": {},
   "outputs": [
    {
     "data": {
      "image/png": "[encoded data removed]",
      "text/plain": [
       "<Figure size 432x288 with 1 Axes>"
      ]
     },
     "metadata": {
      "needs_background": "light"
     },
     "output_type": "display_data"
    }
   ],
   "source": [
    "#Precision\n",
    "rf_pr = plot_precision_recall_curve(gs_cv_rf, test_data, labels_test)  "
   ]
  },
  {
   "cell_type": "code",
   "execution_count": 90,
   "metadata": {},
   "outputs": [
    {
     "name": "stdout",
     "output_type": "stream",
     "text": [
      "Average absolute error: 0.42 degrees.\n"
     ]
    }
   ],
   "source": [
    "# Performance metrics\n",
    "errors_rf = abs(predictions_rf - labels_test)\n",
    "print('Average absolute error:', round(np.mean(errors_rf), 2), 'degrees.')"
   ]
  },
  {
   "cell_type": "markdown",
   "metadata": {},
   "source": [
    "Store the classifier performance:"
   ]
  },
  {
   "cell_type": "code",
   "execution_count": 91,
   "metadata": {},
   "outputs": [],
   "source": [
    "accuracies.append([acc_svm, acc_lda, acc_lr, acc_rf])\n",
    "f1_scores.append([fscore_svm, fscore_lda,  fscore_lr, fscore_rf ])"
   ]
  },
  {
   "cell_type": "markdown",
   "metadata": {},
   "source": [
    "### ROC Curve comparison\n"
   ]
  },
  {
   "cell_type": "code",
   "execution_count": 92,
   "metadata": {},
   "outputs": [
    {
     "data": {
      "image/png": "[encoded data removed]",
      "text/plain": [
       "<Figure size 432x288 with 1 Axes>"
      ]
     },
     "metadata": {
      "needs_background": "light"
     },
     "output_type": "display_data"
    }
   ],
   "source": [
    "%matplotlib inline\n",
    "\n",
    "ax = plt.gca()\n",
    "\n",
    "svm_roc.plot(ax=ax, alpha=0.8,label='SVM')\n",
    "lda_roc.plot(ax=ax, alpha=0.8,label='LDA')   \n",
    "lr_roc.plot(ax=ax, alpha=0.8,label='LR')        \n",
    "rf_roc.plot(ax=ax, alpha=0.8,label='RF')\n",
    "\n",
    " \n",
    "plt.legend()\n",
    "plt.show()"
   ]
  },
  {
   "cell_type": "markdown",
   "metadata": {},
   "source": [
    "### Precision-Recall Curve comparison\n"
   ]
  },
  {
   "cell_type": "code",
   "execution_count": 93,
   "metadata": {},
   "outputs": [
    {
     "data": {
      "image/png": "[encoded data removed]",
      "text/plain": [
       "<Figure size 432x288 with 1 Axes>"
      ]
     },
     "metadata": {
      "needs_background": "light"
     },
     "output_type": "display_data"
    }
   ],
   "source": [
    "#%matplotlib inline\n",
    "\n",
    "ax = plt.gca()\n",
    "\n",
    "svm_pr.plot(ax=ax, alpha=0.8,label='SVM')\n",
    "lda_pr.plot(ax=ax, alpha=0.8,label='LDA')\n",
    "lr_pr.plot(ax=ax, alpha=0.8,label='LR')\n",
    "rf_pr.plot(ax=ax, alpha=0.8,label='RF')\n",
    "\n",
    "plt.legend()\n",
    "plt.show()"
   ]
  },
  {
   "cell_type": "markdown",
   "metadata": {},
   "source": [
    "### Compare the performance of these four different models (Accuracy & F1-score)"
   ]
  },
  {
   "cell_type": "code",
   "execution_count": 94,
   "metadata": {},
   "outputs": [
    {
     "name": "stdout",
     "output_type": "stream",
     "text": [
      "(3, 4)\n",
      "[[0.3373493975903614, 0.6024096385542169, 0.5301204819277109, 0.5301204819277109], [0.5301204819277109, 0.5903614457831325, 0.6024096385542169, 0.5662650602409639], [0.5662650602409639, 0.5783132530120482, 0.5662650602409639, 0.5783132530120482]]\n"
     ]
    }
   ],
   "source": [
    "print(np.shape(accuracies)) #the final shape should be (3,4)\n",
    "print(accuracies)"
   ]
  },
  {
   "cell_type": "code",
   "execution_count": 95,
   "metadata": {},
   "outputs": [
    {
     "name": "stdout",
     "output_type": "stream",
     "text": [
      "(3, 4)\n",
      "[[0.336964415395788, 0.6024096385542168, 0.5257142857142857, 0.5290266259275425], [0.5298474945533769, 0.5874269005847954, 0.6003210272873195, 0.5646853146853146], [0.5662020905923344, 0.5743589743589744, 0.5611045828437133, 0.5743589743589744]]\n"
     ]
    }
   ],
   "source": [
    "print(np.shape(f1_scores)) #the final shape should be (3,4)\n",
    "print(f1_scores)"
   ]
  },
  {
   "cell_type": "code",
   "execution_count": 102,
   "metadata": {},
   "outputs": [
    {
     "data": {
      "image/png": "[encoded data removed]",
      "text/plain": [
       "<Figure size 432x288 with 1 Axes>"
      ]
     },
     "metadata": {
      "needs_background": "light"
     },
     "output_type": "display_data"
    }
   ],
   "source": [
    "# Plot Accuracy scores\n",
    " \n",
    "barWidth = 0.2 # Choose the height of the bars\n",
    "\n",
    "\n",
    "\n",
    "bars1 = [row[0] for row in accuracies ]  \n",
    "bars2 = [row[1] for row in accuracies ]\n",
    "bars3 = [row[2] for row in accuracies ]\n",
    "bars4 = [row[3] for row in accuracies ]\n",
    " \n",
    "\n",
    "\n",
    "# The x position of bars\n",
    "r1 = np.arange(len(bars1))\n",
    "r2 = [x + barWidth for x in r1]\n",
    "r3 = [x + barWidth for x in r2]\n",
    "r4 = [x + barWidth for x in r3]\n",
    "r5 = [x + barWidth for x in r4]\n",
    "\n",
    "\n",
    "# Create the bars\n",
    "ax = plt.axes()\n",
    "plt.bar(r1, bars1, color='#87CEFA', width=barWidth, edgecolor='white', label='SVM')\n",
    "plt.bar(r2, bars2, color='#FFE4E1', width=barWidth, edgecolor='white', label='LDA')\n",
    "plt.bar(r3, bars3, color='#CD5C5C', width=barWidth, edgecolor='white', label='LR')\n",
    "plt.bar(r4, bars4, color='#C5E384', width=barWidth, edgecolor='white', label='RF')\n",
    "\n",
    "#plt.axhline(y=0.5, color='k', linestyle='--',linewidth=0.4)\n",
    "#plt.axhline(y=0.6, color='r', linestyle='--',linewidth=0.4)\n",
    "plt.xlabel('Classification Tasks')\n",
    "plt.ylabel(' Accuracies')\n",
    "ax.set_xticks([0.3,1.3,2.3])\n",
    "ax.set_xticklabels(['Theta','Alpha','Beta'])\n",
    "plt.legend(loc=\"upper left\", bbox_to_anchor=(0.98, 1))\n",
    "\n",
    "plt.show()"
   ]
  },
  {
   "cell_type": "code",
   "execution_count": 97,
   "metadata": {},
   "outputs": [
    {
     "data": {
      "image/png": "[encoded data removed]",
      "text/plain": [
       "<Figure size 432x288 with 1 Axes>"
      ]
     },
     "metadata": {
      "needs_background": "light"
     },
     "output_type": "display_data"
    }
   ],
   "source": [
    "# Plot F1-scores\n",
    " \n",
    "barWidth = 0.2 # Choose the height of the bars\n",
    "\n",
    "\n",
    "bars1 = [row[0] for row in f1_scores ] \n",
    "bars2 = [row[1] for row in f1_scores ]\n",
    "bars3 = [row[2] for row in f1_scores ]\n",
    "bars4 = [row[3] for row in f1_scores ]\n",
    " \n",
    "\n",
    "# The x position of bars\n",
    "\n",
    "r1 = np.arange(len(bars1))\n",
    "r2 = [x + barWidth for x in r1]\n",
    "r3 = [x + barWidth for x in r2]\n",
    "r4 = [x + barWidth for x in r3]\n",
    "r5 = [x + barWidth for x in r4]\n",
    "\n",
    "\n",
    "# Create the bars\n",
    "ax = plt.axes()\n",
    "plt.bar(r1, bars1, color='#87CEFA', width=barWidth, edgecolor='white', label='SVM')\n",
    "plt.bar(r2, bars2, color='#FFE4E1', width=barWidth, edgecolor='white', label='LDA')\n",
    "plt.bar(r3, bars3, color='#CD5C5C', width=barWidth, edgecolor='white', label='LR')\n",
    "plt.bar(r4, bars4, color='#C5E384', width=barWidth, edgecolor='white', label='RF')\n",
    "\n",
    "#plt.axhline(y=0.5, color='k', linestyle='--',linewidth=0.4)\n",
    "#plt.axhline(y=0.6, color='r', linestyle='--',linewidth=0.4)\n",
    "plt.xlabel('Classification Tasks')\n",
    "plt.ylabel(' F1-scores')\n",
    "ax.set_xticks([0.3,1.3,2.3])\n",
    "ax.set_xticklabels(['Theta','Alpha','Beta'])\n",
    "plt.legend(loc=\"upper left\", bbox_to_anchor=(0.98, 1))\n",
    "\n",
    "plt.show()"
   ]
  },
  {
   "cell_type": "markdown",
   "metadata": {},
   "source": [
    "### Explore the Feature Importance in RF"
   ]
  },
  {
   "cell_type": "code",
   "execution_count": null,
   "metadata": {},
   "outputs": [],
   "source": [
    "#Define the classifier\n",
    "clf_rf_pip = make_pipeline(Vectorizer(), StandardScaler(), RandomForestClassifier(n_estimators=500, max_depth=4))\n",
    "clf_rf_pip.fit(train_data,labels_train)\n",
    "predictions_rf = clf_rf_pip.predict(test_data)\n",
    "\n",
    "clf_rf_pip[2].feature_importances_ #impurity-based feature importances\n",
    "feature_names = [f'feature {i}' for i in range(clf_rf_pip[2].n_features_)]\n",
    "#print(feature_names)\n",
    "chan=epochs_all.info['ch_names']\n",
    "idx = [item for item in chan for i in range(811)]\n",
    "feature_imp = pd.Series(clf_rf_pip[2].feature_importances_, index=idx).sort_values(ascending=False)"
   ]
  },
  {
   "cell_type": "code",
   "execution_count": null,
   "metadata": {},
   "outputs": [],
   "source": [
    "#Plot the features\n",
    "\n",
    "#%matplotlib inline\n",
    "# Creating a bar plot\n",
    "sns.barplot(x=feature_imp, y=feature_imp.index)\n",
    "# Add labels to your graph\n",
    "plt.xlabel('Feature Importance Score')\n",
    "plt.ylabel('Features')\n",
    "plt.title(\"Visualizing Important Features\")\n",
    "plt.legend()\n",
    "plt.show()"
   ]
  }
 ],
 "metadata": {
  "kernelspec": {
   "display_name": "Python 3",
   "language": "python",
   "name": "python3"
  },
  "language_info": {
   "codemirror_mode": {
    "name": "ipython",
    "version": 3
   },
   "file_extension": ".py",
   "mimetype": "text/x-python",
   "name": "python",
   "nbconvert_exporter": "python",
   "pygments_lexer": "ipython3",
   "version": "3.8.5"
  }
 },
 "nbformat": 4,
 "nbformat_minor": 4
}
