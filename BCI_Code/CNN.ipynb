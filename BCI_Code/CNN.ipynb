{
 "cells": [
  {
   "cell_type": "markdown",
   "metadata": {},
   "source": [
    "### Import libraries"
   ]
  },
  {
   "cell_type": "code",
   "execution_count": 1,
   "metadata": {},
   "outputs": [],
   "source": [
    "%%capture libraries   \n",
    "\n",
    "import sys\n",
    "import os\n",
    "!{sys.executable} -m pip install numpy\n",
    "!{sys.executable} -m pip install mne\n",
    "!{sys.executable} -m pip install mne-features\n",
    "import numpy as np\n",
    "import matplotlib \n",
    "import pathlib\n",
    "import mne\n",
    "import seaborn as sns\n",
    "import pandas as pd\n",
    "from mne.io import concatenate_raws, read_raw_edf\n",
    "from mne import Epochs, create_info, events_from_annotations\n",
    "from mne.preprocessing import ICA, create_eog_epochs, create_ecg_epochs,corrmap\n",
    "from mne.time_frequency import tfr_morlet, psd_multitaper, psd_welch, tfr_stockwell,tfr_multitaper,tfr_array_morlet,AverageTFR\n",
    "from scipy import signal, stats\n",
    "from scipy.integrate import simps\n",
    "#matplotlib.use('Qt5Agg') #allow interactive plots\n",
    "import matplotlib.pyplot as plt\n",
    "from mne.decoding import GeneralizingEstimator, Scaler,cross_val_multiscore, LinearModel, get_coef, Vectorizer, CSP, SlidingEstimator\n",
    "from mne.viz import centers_to_edges\n",
    "from mne.baseline import rescale\n",
    "from sklearn import metrics, svm\n",
    "from sklearn.preprocessing import StandardScaler, LabelEncoder\n",
    "from sklearn.pipeline import Pipeline, make_pipeline\n",
    "from sklearn.model_selection import cross_val_score, train_test_split, GridSearchCV, StratifiedKFold, ShuffleSplit\n",
    "from sklearn.metrics import confusion_matrix, classification_report, accuracy_score, precision_recall_fscore_support, precision_recall_curve, average_precision_score, plot_precision_recall_curve, ConfusionMatrixDisplay\n",
    "from sklearn.ensemble import RandomForestClassifier\n",
    "from sklearn.inspection import permutation_importance\n",
    "from sklearn.metrics import plot_roc_curve\n",
    "from sklearn.discriminant_analysis import LinearDiscriminantAnalysis\n",
    "from sklearn.linear_model import LogisticRegression \n",
    "import tensorflow as tf\n",
    "import keras\n",
    "from keras import layers as layers\n",
    "from keras import optimizers\n",
    "from keras.layers import Dense, Dropout, Flatten, LSTM, Activation, SpatialDropout1D,SpatialDropout2D, MaxPooling2D, MaxPooling1D\n",
    "from keras.models import Sequential,Input,Model\n",
    "from keras.layers.normalization import BatchNormalization\n",
    "from keras.layers.advanced_activations import LeakyReLU\n",
    "from keras.layers.convolutional import Conv1D, Conv2D\n",
    "from sklearn.model_selection import KFold\n",
    "from tensorflow.keras.callbacks import EarlyStopping\n",
    "from keras.wrappers.scikit_learn import KerasClassifier\n",
    "from keras.constraints import maxnorm\n",
    "from tensorflow.keras.utils import to_categorical\n",
    "from keras.optimizers import SGD, RMSprop\n",
    "%run SM1.ipynb import load_data, excl_chan, filter_data, make_epochs, plot_data, epochs_power\n",
    " "
   ]
  },
  {
   "cell_type": "markdown",
   "metadata": {},
   "source": [
    "### Load epoched dataset"
   ]
  },
  {
   "cell_type": "markdown",
   "metadata": {},
   "source": [
    "This dataset is filtered between 1-30Hz, artifacts correction with ICA and manual rejections of bad epochs (20 rejected). \n",
    "\n",
    "Each epoch has a duration of 9.5secs (9.998-0.25-0.25)"
   ]
  },
  {
   "cell_type": "code",
   "execution_count": 2,
   "metadata": {},
   "outputs": [
    {
     "name": "stdout",
     "output_type": "stream",
     "text": [
      "Reading epoched_data_280-epo.fif ...\n",
      "    Found the data of interest:\n",
      "        t =     250.00 ...    9746.09 ms\n",
      "        0 CTF compensation matrices available\n",
      "Not setting metadata\n",
      "Not setting metadata\n",
      "280 matching events found\n",
      "No baseline correction applied\n",
      "0 projection items activated\n",
      "(280, 14, 2432)\n"
     ]
    }
   ],
   "source": [
    "epochs= mne.read_epochs('epoched_data_280-epo.fif', preload=True)\n",
    "print(epochs.get_data().shape)"
   ]
  },
  {
   "cell_type": "code",
   "execution_count": 3,
   "metadata": {},
   "outputs": [],
   "source": [
    "#crop epoched data to reduce computational time\n",
    "\n",
    "#epochs_cr = epochs.copy().crop(tmin=1., tmax=8.)\n",
    "#print(epochs_cr.get_data().shape)"
   ]
  },
  {
   "cell_type": "markdown",
   "metadata": {},
   "source": [
    "### Select occipital channels"
   ]
  },
  {
   "cell_type": "code",
   "execution_count": 4,
   "metadata": {},
   "outputs": [
    {
     "name": "stdout",
     "output_type": "stream",
     "text": [
      "(280, 2, 2432)\n"
     ]
    }
   ],
   "source": [
    "epochs.drop_channels(['AF3','F7','F3','FC5','T7','P7','P8','T8','FC6','F4','F8','AF4']) \n",
    "print(epochs.get_data().shape)"
   ]
  },
  {
   "cell_type": "markdown",
   "metadata": {},
   "source": [
    "### Equalize the number of epochs count in each condition"
   ]
  },
  {
   "cell_type": "code",
   "execution_count": 5,
   "metadata": {},
   "outputs": [
    {
     "name": "stdout",
     "output_type": "stream",
     "text": [
      "Dropped 4 epochs: 132, 167, 204, 271\n",
      "(276, 2, 2432)\n"
     ]
    }
   ],
   "source": [
    "mne.Epochs.equalize_event_counts(epochs, event_ids=epochs.event_id)\n",
    "print(epochs.get_data().shape)"
   ]
  },
  {
   "cell_type": "markdown",
   "metadata": {},
   "source": [
    "### Prepare dataset"
   ]
  },
  {
   "cell_type": "code",
   "execution_count": 6,
   "metadata": {},
   "outputs": [
    {
     "name": "stdout",
     "output_type": "stream",
     "text": [
      "(276, 2432, 2)\n",
      "(276,)\n"
     ]
    }
   ],
   "source": [
    "#reshape dataset\n",
    "\n",
    "epo=np.transpose(epochs, (0, 2, 1)) #epo, time, chans\n",
    "x_data = np.array(epo) #input data\n",
    "y_target = np.array(epochs.events[:,-1]) #target data\n",
    "print(x_data.shape)\n",
    "print(y_target.shape)\n",
    "#X_train, X_test, y_train, y_test = train_test_split(x, y, test_size=0.2, random_state=123) #training and testing\n"
   ]
  },
  {
   "cell_type": "code",
   "execution_count": 7,
   "metadata": {},
   "outputs": [],
   "source": [
    "## Parse numbers as floats\n",
    "\n",
    "x_data = np.asarray(x_data).astype('float32')\n",
    "y_target = np.asarray(y_target).astype('float32')"
   ]
  },
  {
   "cell_type": "code",
   "execution_count": 8,
   "metadata": {},
   "outputs": [
    {
     "name": "stdout",
     "output_type": "stream",
     "text": [
      "(671232, 2)\n",
      "(276, 2432, 2)\n"
     ]
    }
   ],
   "source": [
    "#Standardise the input data\n",
    "\n",
    "num_instances, num_time_steps, num_features = x_data.shape\n",
    "x_data = np.reshape(x_data, (-1, num_features))\n",
    "print(x_data.shape)\n",
    "x_data = StandardScaler().fit_transform(x_data)\n",
    "x_data = np.reshape(x_data, (num_instances, num_time_steps, num_features))\n",
    "print(x_data.shape)"
   ]
  },
  {
   "cell_type": "code",
   "execution_count": 11,
   "metadata": {},
   "outputs": [
    {
     "name": "stdout",
     "output_type": "stream",
     "text": [
      "2432 2 2\n"
     ]
    }
   ],
   "source": [
    "n_timesteps, n_features, n_outputs = x_data.shape[1], x_data.shape[2], x_data.shape[2]\n",
    "print(n_timesteps, n_features, n_outputs)"
   ]
  },
  {
   "cell_type": "markdown",
   "metadata": {},
   "source": [
    "### Define CNN architecture"
   ]
  },
  {
   "cell_type": "code",
   "execution_count": 19,
   "metadata": {},
   "outputs": [],
   "source": [
    "def define_model():\n",
    "\n",
    "    model=Sequential()\n",
    "    model.add(Conv1D(filters=25, kernel_size=(11), strides=(1), padding='valid',  name='conv_1', input_shape=(n_timesteps, n_features)))\n",
    "\n",
    "    model.add(LeakyReLU(alpha=0.015))\n",
    "    model.add(SpatialDropout1D(rate=0.5, name='SpatialDropout_1'))\n",
    "\n",
    "    model.add(Conv1D(filters=25, kernel_size=(1),  strides=(1), padding='valid', name='conv_2')) #spatial filter\n",
    "    model.add(BatchNormalization(name='BatchNormalisation_1'))\n",
    "    model.add(LeakyReLU(alpha=0.015))\n",
    "    model.add(MaxPooling1D(pool_size=(3), strides=(1), padding='valid', name='MaxPooling_1'))\n",
    "\n",
    "    model.add(Conv1D(filters=50, kernel_size=(11), strides=(1), padding='valid', name='conv_3')) #temporal filter\n",
    "    model.add(LeakyReLU(alpha=0.015))\n",
    "    model.add(SpatialDropout1D(rate=0.4, name='SpatialDropout_2'))\n",
    "    model.add(MaxPooling1D(pool_size=(3), strides=(1), padding='valid', name='MaxPooling_2'))\n",
    "\n",
    "    model.add(Conv1D(filters=100, kernel_size=(11), strides=(1), padding='valid', name='conv_4')) #temporal filter\n",
    "    model.add(BatchNormalization(name='BatchNormalisation_2'))\n",
    "    model.add(LeakyReLU(alpha=0.015))\n",
    "    model.add(SpatialDropout1D(rate=0.5, name='SpatialDropout_3'))\n",
    "    model.add(MaxPooling1D(pool_size=(3), strides=(1), padding='valid', name='MaxPooling_3'))\n",
    "\n",
    "    model.add(Conv1D(filters=200, kernel_size=(11),  strides=(1), padding='valid', name='conv_5')) #temporal filter\n",
    "    model.add(BatchNormalization(name='BatchNormalisation_3'))\n",
    "    model.add(LeakyReLU(alpha=0.015))\n",
    "   # model.add(SpatialDropout1D(rate=0.65, name='SpatialDropout_4'))\n",
    "    model.add(MaxPooling1D(pool_size=(3), strides=(2), padding='valid', name='MaxPooling_4'))\n",
    "\n",
    "    model.add(Flatten())\n",
    "\n",
    "    model.add(Dense(1,activation=\"sigmoid\")) \n",
    "\n",
    "    opt=optimizers.Adam(learning_rate=0.00003) \n",
    "    \n",
    "    model.compile(loss='binary_crossentropy', optimizer=opt, metrics=['accuracy'])\n",
    "    return model"
   ]
  },
  {
   "cell_type": "code",
   "execution_count": 24,
   "metadata": {},
   "outputs": [
    {
     "name": "stdout",
     "output_type": "stream",
     "text": [
      "Model: \"sequential_12\"\n",
      "_________________________________________________________________\n",
      "Layer (type)                 Output Shape              Param #   \n",
      "=================================================================\n",
      "conv_1 (Conv1D)              (None, 2422, 25)          575       \n",
      "_________________________________________________________________\n",
      "leaky_re_lu_60 (LeakyReLU)   (None, 2422, 25)          0         \n",
      "_________________________________________________________________\n",
      "SpatialDropout_1 (SpatialDro (None, 2422, 25)          0         \n",
      "_________________________________________________________________\n",
      "conv_2 (Conv1D)              (None, 2422, 25)          650       \n",
      "_________________________________________________________________\n",
      "BatchNormalisation_1 (BatchN (None, 2422, 25)          100       \n",
      "_________________________________________________________________\n",
      "leaky_re_lu_61 (LeakyReLU)   (None, 2422, 25)          0         \n",
      "_________________________________________________________________\n",
      "MaxPooling_1 (MaxPooling1D)  (None, 2420, 25)          0         \n",
      "_________________________________________________________________\n",
      "conv_3 (Conv1D)              (None, 2410, 50)          13800     \n",
      "_________________________________________________________________\n",
      "leaky_re_lu_62 (LeakyReLU)   (None, 2410, 50)          0         \n",
      "_________________________________________________________________\n",
      "SpatialDropout_2 (SpatialDro (None, 2410, 50)          0         \n",
      "_________________________________________________________________\n",
      "MaxPooling_2 (MaxPooling1D)  (None, 2408, 50)          0         \n",
      "_________________________________________________________________\n",
      "conv_4 (Conv1D)              (None, 2398, 100)         55100     \n",
      "_________________________________________________________________\n",
      "BatchNormalisation_2 (BatchN (None, 2398, 100)         400       \n",
      "_________________________________________________________________\n",
      "leaky_re_lu_63 (LeakyReLU)   (None, 2398, 100)         0         \n",
      "_________________________________________________________________\n",
      "SpatialDropout_3 (SpatialDro (None, 2398, 100)         0         \n",
      "_________________________________________________________________\n",
      "MaxPooling_3 (MaxPooling1D)  (None, 2396, 100)         0         \n",
      "_________________________________________________________________\n",
      "conv_5 (Conv1D)              (None, 2386, 200)         220200    \n",
      "_________________________________________________________________\n",
      "BatchNormalisation_3 (BatchN (None, 2386, 200)         800       \n",
      "_________________________________________________________________\n",
      "leaky_re_lu_64 (LeakyReLU)   (None, 2386, 200)         0         \n",
      "_________________________________________________________________\n",
      "MaxPooling_4 (MaxPooling1D)  (None, 1192, 200)         0         \n",
      "_________________________________________________________________\n",
      "flatten_12 (Flatten)         (None, 238400)            0         \n",
      "_________________________________________________________________\n",
      "dense_12 (Dense)             (None, 1)                 238401    \n",
      "=================================================================\n",
      "Total params: 530,026\n",
      "Trainable params: 529,376\n",
      "Non-trainable params: 650\n",
      "_________________________________________________________________\n"
     ]
    }
   ],
   "source": [
    "model=define_model()\n",
    "model.summary()"
   ]
  },
  {
   "cell_type": "code",
   "execution_count": 20,
   "metadata": {},
   "outputs": [],
   "source": [
    "# Initialiase variables to store cross-validation results\n",
    "\n",
    "acc_per_fold = []\n",
    "loss_per_fold = []"
   ]
  },
  {
   "cell_type": "code",
   "execution_count": null,
   "metadata": {},
   "outputs": [],
   "source": [
    "# Define the K-fold Cross Validator\n",
    "kfold = KFold(n_splits=5, shuffle=True)\n",
    "\n",
    "# Initialise the following parameters\n",
    "no_epochs=20\n",
    "batch_size= 32\n",
    "inputs=x_data\n",
    "targets=y_target\n",
    "fold_no=1"
   ]
  },
  {
   "cell_type": "code",
   "execution_count": 21,
   "metadata": {},
   "outputs": [
    {
     "name": "stdout",
     "output_type": "stream",
     "text": [
      "..................................................................\n",
      "Training for fold 1 ...\n",
      "Epoch 1/20\n",
      "7/7 [==============================] - 13s 2s/step - loss: 0.7613 - accuracy: 0.5119\n",
      "Epoch 2/20\n",
      "7/7 [==============================] - 10s 1s/step - loss: 0.9741 - accuracy: 0.4806\n",
      "Epoch 3/20\n",
      "7/7 [==============================] - 10s 1s/step - loss: 0.7812 - accuracy: 0.6031\n",
      "Epoch 4/20\n",
      "7/7 [==============================] - 11s 2s/step - loss: 0.7662 - accuracy: 0.5555\n",
      "Epoch 5/20\n",
      "7/7 [==============================] - 10s 1s/step - loss: 0.8061 - accuracy: 0.5214\n",
      "Epoch 6/20\n",
      "7/7 [==============================] - 10s 1s/step - loss: 0.6989 - accuracy: 0.5640\n",
      "Epoch 7/20\n",
      "7/7 [==============================] - 11s 2s/step - loss: 0.7386 - accuracy: 0.5341\n",
      "Epoch 8/20\n",
      "7/7 [==============================] - 10s 1s/step - loss: 0.7117 - accuracy: 0.5838\n",
      "Epoch 9/20\n",
      "7/7 [==============================] - 10s 1s/step - loss: 0.6519 - accuracy: 0.6588\n",
      "Epoch 10/20\n",
      "7/7 [==============================] - 11s 2s/step - loss: 0.6165 - accuracy: 0.6551\n",
      "Epoch 11/20\n",
      "7/7 [==============================] - 10s 1s/step - loss: 0.6272 - accuracy: 0.6738\n",
      "Epoch 12/20\n",
      "7/7 [==============================] - 11s 2s/step - loss: 0.7445 - accuracy: 0.5777\n",
      "Epoch 13/20\n",
      "7/7 [==============================] - 10s 1s/step - loss: 0.6210 - accuracy: 0.6429\n",
      "Epoch 14/20\n",
      "7/7 [==============================] - 10s 1s/step - loss: 0.6416 - accuracy: 0.6954\n",
      "Epoch 15/20\n",
      "7/7 [==============================] - 11s 2s/step - loss: 0.7377 - accuracy: 0.5843\n",
      "Epoch 16/20\n",
      "7/7 [==============================] - 10s 1s/step - loss: 0.6238 - accuracy: 0.6738\n",
      "Epoch 17/20\n",
      "7/7 [==============================] - 10s 1s/step - loss: 0.5569 - accuracy: 0.6969\n",
      "Epoch 18/20\n",
      "7/7 [==============================] - 10s 2s/step - loss: 0.5732 - accuracy: 0.7359\n",
      "Epoch 19/20\n",
      "7/7 [==============================] - 10s 1s/step - loss: 0.6223 - accuracy: 0.6788\n",
      "Epoch 20/20\n",
      "7/7 [==============================] - 10s 1s/step - loss: 0.5484 - accuracy: 0.7346\n",
      "Score for fold 1: loss of 0.7004991769790649; accuracy of 53.57142686843872%\n",
      "..................................................................\n",
      "Training for fold 2 ...\n",
      "Epoch 1/20\n",
      "7/7 [==============================] - 13s 2s/step - loss: 0.9480 - accuracy: 0.4931\n",
      "Epoch 2/20\n",
      "7/7 [==============================] - 10s 1s/step - loss: 0.8238 - accuracy: 0.5256\n",
      "Epoch 3/20\n",
      "7/7 [==============================] - 10s 1s/step - loss: 0.7010 - accuracy: 0.5840\n",
      "Epoch 4/20\n",
      "7/7 [==============================] - 11s 2s/step - loss: 0.7827 - accuracy: 0.4743\n",
      "Epoch 5/20\n",
      "7/7 [==============================] - 10s 1s/step - loss: 0.6902 - accuracy: 0.5793\n",
      "Epoch 6/20\n",
      "7/7 [==============================] - 10s 1s/step - loss: 0.6964 - accuracy: 0.5884\n",
      "Epoch 7/20\n",
      "7/7 [==============================] - 11s 2s/step - loss: 0.7059 - accuracy: 0.5912\n",
      "Epoch 8/20\n",
      "7/7 [==============================] - 10s 1s/step - loss: 0.7228 - accuracy: 0.6066\n",
      "Epoch 9/20\n",
      "7/7 [==============================] - 10s 1s/step - loss: 0.7323 - accuracy: 0.5902\n",
      "Epoch 10/20\n",
      "7/7 [==============================] - 11s 2s/step - loss: 0.6341 - accuracy: 0.6280\n",
      "Epoch 11/20\n",
      "7/7 [==============================] - 10s 1s/step - loss: 0.6152 - accuracy: 0.6578\n",
      "Epoch 12/20\n",
      "7/7 [==============================] - 10s 1s/step - loss: 0.6211 - accuracy: 0.6620\n",
      "Epoch 13/20\n",
      "7/7 [==============================] - 11s 2s/step - loss: 0.5543 - accuracy: 0.7503\n",
      "Epoch 14/20\n",
      "7/7 [==============================] - 10s 1s/step - loss: 0.6330 - accuracy: 0.6454\n",
      "Epoch 15/20\n",
      "7/7 [==============================] - 10s 1s/step - loss: 0.6205 - accuracy: 0.6471\n",
      "Epoch 16/20\n",
      "7/7 [==============================] - 10s 1s/step - loss: 0.6578 - accuracy: 0.6480\n",
      "Epoch 17/20\n",
      "7/7 [==============================] - 10s 1s/step - loss: 0.6273 - accuracy: 0.6103\n",
      "Epoch 18/20\n",
      "7/7 [==============================] - 11s 2s/step - loss: 0.6238 - accuracy: 0.6417\n",
      "Epoch 19/20\n",
      "7/7 [==============================] - 10s 1s/step - loss: 0.5798 - accuracy: 0.6769\n",
      "Epoch 20/20\n",
      "7/7 [==============================] - 10s 1s/step - loss: 0.5949 - accuracy: 0.6275\n",
      "Score for fold 2: loss of 0.7192414999008179; accuracy of 52.72727012634277%\n",
      "..................................................................\n",
      "Training for fold 3 ...\n",
      "Epoch 1/20\n",
      "7/7 [==============================] - 13s 2s/step - loss: 0.8264 - accuracy: 0.4786\n",
      "Epoch 2/20\n",
      "7/7 [==============================] - 10s 1s/step - loss: 0.7446 - accuracy: 0.5931\n",
      "Epoch 3/20\n",
      "7/7 [==============================] - 11s 2s/step - loss: 0.7940 - accuracy: 0.5377\n",
      "Epoch 4/20\n",
      "7/7 [==============================] - 10s 1s/step - loss: 0.7257 - accuracy: 0.6111\n",
      "Epoch 5/20\n",
      "7/7 [==============================] - 10s 1s/step - loss: 0.7265 - accuracy: 0.5375\n",
      "Epoch 6/20\n",
      "7/7 [==============================] - 11s 2s/step - loss: 0.6975 - accuracy: 0.6390\n",
      "Epoch 7/20\n",
      "7/7 [==============================] - 10s 1s/step - loss: 0.6924 - accuracy: 0.5629\n",
      "Epoch 8/20\n",
      "7/7 [==============================] - 10s 1s/step - loss: 0.6620 - accuracy: 0.6355\n",
      "Epoch 9/20\n",
      "7/7 [==============================] - 11s 1s/step - loss: 0.6712 - accuracy: 0.6269\n",
      "Epoch 10/20\n",
      "7/7 [==============================] - 11s 2s/step - loss: 0.6446 - accuracy: 0.6498\n",
      "Epoch 11/20\n",
      "7/7 [==============================] - 10s 1s/step - loss: 0.6515 - accuracy: 0.6003\n",
      "Epoch 12/20\n",
      "7/7 [==============================] - 10s 1s/step - loss: 0.6541 - accuracy: 0.5987\n",
      "Epoch 13/20\n",
      "7/7 [==============================] - 11s 2s/step - loss: 0.5989 - accuracy: 0.6975\n",
      "Epoch 14/20\n",
      "7/7 [==============================] - 10s 1s/step - loss: 0.6698 - accuracy: 0.6182\n",
      "Epoch 15/20\n",
      "7/7 [==============================] - 11s 1s/step - loss: 0.5958 - accuracy: 0.6927\n",
      "Epoch 16/20\n",
      "7/7 [==============================] - 10s 2s/step - loss: 0.6265 - accuracy: 0.6627\n",
      "Epoch 17/20\n",
      "7/7 [==============================] - 10s 1s/step - loss: 0.6352 - accuracy: 0.6400\n",
      "Epoch 18/20\n",
      "7/7 [==============================] - 11s 2s/step - loss: 0.6321 - accuracy: 0.6601\n",
      "Epoch 19/20\n",
      "7/7 [==============================] - 10s 1s/step - loss: 0.6538 - accuracy: 0.6529\n",
      "Epoch 20/20\n",
      "7/7 [==============================] - 10s 1s/step - loss: 0.5700 - accuracy: 0.6806\n",
      "Score for fold 3: loss of 0.6903642416000366; accuracy of 58.1818163394928%\n",
      "..................................................................\n",
      "Training for fold 4 ...\n",
      "Epoch 1/20\n",
      "7/7 [==============================] - 14s 2s/step - loss: 0.8878 - accuracy: 0.5263\n",
      "Epoch 2/20\n",
      "7/7 [==============================] - 10s 1s/step - loss: 1.0168 - accuracy: 0.5142\n",
      "Epoch 3/20\n",
      "7/7 [==============================] - 11s 1s/step - loss: 0.8597 - accuracy: 0.5408\n",
      "Epoch 4/20\n",
      "7/7 [==============================] - 10s 1s/step - loss: 0.7193 - accuracy: 0.5621\n",
      "Epoch 5/20\n",
      "7/7 [==============================] - 10s 1s/step - loss: 0.7070 - accuracy: 0.5791\n",
      "Epoch 6/20\n",
      "7/7 [==============================] - 11s 2s/step - loss: 0.6880 - accuracy: 0.5808\n",
      "Epoch 7/20\n",
      "7/7 [==============================] - 10s 1s/step - loss: 0.7301 - accuracy: 0.5296\n",
      "Epoch 8/20\n",
      "7/7 [==============================] - 10s 1s/step - loss: 0.6980 - accuracy: 0.5439\n",
      "Epoch 9/20\n",
      "7/7 [==============================] - 11s 2s/step - loss: 0.6897 - accuracy: 0.6048\n",
      "Epoch 10/20\n",
      "7/7 [==============================] - 10s 1s/step - loss: 0.7186 - accuracy: 0.5738\n",
      "Epoch 11/20\n",
      "7/7 [==============================] - 10s 1s/step - loss: 0.6888 - accuracy: 0.5645\n",
      "Epoch 12/20\n",
      "7/7 [==============================] - 10s 1s/step - loss: 0.6999 - accuracy: 0.5929\n",
      "Epoch 13/20\n",
      "7/7 [==============================] - 10s 1s/step - loss: 0.6966 - accuracy: 0.5748\n",
      "Epoch 14/20\n",
      "7/7 [==============================] - 11s 2s/step - loss: 0.7037 - accuracy: 0.5924\n",
      "Epoch 15/20\n",
      "7/7 [==============================] - 10s 1s/step - loss: 0.5893 - accuracy: 0.6765\n",
      "Epoch 16/20\n",
      "7/7 [==============================] - 10s 1s/step - loss: 0.5563 - accuracy: 0.7374\n",
      "Epoch 17/20\n",
      "7/7 [==============================] - 11s 2s/step - loss: 0.5866 - accuracy: 0.6309\n",
      "Epoch 18/20\n",
      "7/7 [==============================] - 10s 1s/step - loss: 0.5742 - accuracy: 0.6985\n",
      "Epoch 19/20\n",
      "7/7 [==============================] - 10s 1s/step - loss: 0.5697 - accuracy: 0.7040\n",
      "Epoch 20/20\n",
      "7/7 [==============================] - 11s 2s/step - loss: 0.5473 - accuracy: 0.7117\n",
      "Score for fold 4: loss of 0.7008613348007202; accuracy of 54.54545617103577%\n",
      "..................................................................\n",
      "Training for fold 5 ...\n",
      "Epoch 1/20\n",
      "7/7 [==============================] - 12s 2s/step - loss: 0.8344 - accuracy: 0.4855\n",
      "Epoch 2/20\n",
      "7/7 [==============================] - 10s 1s/step - loss: 0.8213 - accuracy: 0.5397\n",
      "Epoch 3/20\n",
      "7/7 [==============================] - 11s 1s/step - loss: 0.7618 - accuracy: 0.5286\n",
      "Epoch 4/20\n",
      "7/7 [==============================] - 10s 1s/step - loss: 0.7926 - accuracy: 0.4853\n",
      "Epoch 5/20\n",
      "7/7 [==============================] - 10s 1s/step - loss: 0.7199 - accuracy: 0.6107\n",
      "Epoch 6/20\n",
      "7/7 [==============================] - 11s 2s/step - loss: 0.7836 - accuracy: 0.5302\n",
      "Epoch 7/20\n",
      "7/7 [==============================] - 10s 1s/step - loss: 0.6768 - accuracy: 0.6108\n",
      "Epoch 8/20\n",
      "7/7 [==============================] - 10s 1s/step - loss: 0.6780 - accuracy: 0.6545\n",
      "Epoch 9/20\n",
      "7/7 [==============================] - 11s 2s/step - loss: 0.6963 - accuracy: 0.6094\n",
      "Epoch 10/20\n",
      "7/7 [==============================] - 10s 1s/step - loss: 0.6839 - accuracy: 0.6299\n",
      "Epoch 11/20\n",
      "7/7 [==============================] - 10s 1s/step - loss: 0.6976 - accuracy: 0.6099\n",
      "Epoch 12/20\n",
      "7/7 [==============================] - 11s 2s/step - loss: 0.6828 - accuracy: 0.5886\n",
      "Epoch 13/20\n",
      "7/7 [==============================] - 10s 1s/step - loss: 0.6260 - accuracy: 0.6100\n",
      "Epoch 14/20\n",
      "7/7 [==============================] - 11s 1s/step - loss: 0.6092 - accuracy: 0.6809\n",
      "Epoch 15/20\n",
      "7/7 [==============================] - 10s 2s/step - loss: 0.6576 - accuracy: 0.6444\n",
      "Epoch 16/20\n",
      "7/7 [==============================] - 10s 1s/step - loss: 0.6374 - accuracy: 0.6234\n",
      "Epoch 17/20\n",
      "7/7 [==============================] - 11s 1s/step - loss: 0.6100 - accuracy: 0.6792\n",
      "Epoch 18/20\n",
      "7/7 [==============================] - 10s 1s/step - loss: 0.6093 - accuracy: 0.6938\n",
      "Epoch 19/20\n",
      "7/7 [==============================] - 10s 1s/step - loss: 0.5704 - accuracy: 0.6702\n",
      "Epoch 20/20\n",
      "7/7 [==============================] - 12s 2s/step - loss: 0.5497 - accuracy: 0.7322\n",
      "Score for fold 5: loss of 0.6989679932594299; accuracy of 47.27272689342499%\n",
      "..................................................................\n",
      "Score per fold\n",
      "..................................................................\n",
      "> Fold 1 - Loss: 0.7004991769790649 - Accuracy: 53.57142686843872%\n",
      "..................................................................\n",
      "> Fold 2 - Loss: 0.7192414999008179 - Accuracy: 52.72727012634277%\n",
      "..................................................................\n",
      "> Fold 3 - Loss: 0.6903642416000366 - Accuracy: 58.1818163394928%\n",
      "..................................................................\n",
      "> Fold 4 - Loss: 0.7008613348007202 - Accuracy: 54.54545617103577%\n",
      "..................................................................\n",
      "> Fold 5 - Loss: 0.6989679932594299 - Accuracy: 47.27272689342499%\n",
      "..................................................................\n",
      "Average scores for all folds:\n",
      "> Accuracy: 53.25973927974701 (+- 3.524341083745038)\n",
      "> Loss: 0.7019868493080139\n",
      "..................................................................\n"
     ]
    }
   ],
   "source": [
    "for train, test in kfold.split(inputs, targets):\n",
    "    model = define_model() #define model\n",
    "    print('..................................................................')\n",
    "    print(f'Training for fold {fold_no} ...')\n",
    "    #fit data to model\n",
    "    history = model.fit(inputs[train], targets[train], batch_size=batch_size, epochs=no_epochs, verbose=1)\n",
    "    scores = model.evaluate(inputs[test], targets[test], verbose=0)\n",
    "    print(f'Score for fold {fold_no}: {model.metrics_names[0]} of {scores[0]}; {model.metrics_names[1]} of {scores[1]*100}%')\n",
    "    acc_per_fold.append(scores[1] * 100)\n",
    "    loss_per_fold.append(scores[0])\n",
    "    #history_per_fold.append(history)\n",
    "    \n",
    "    # Increase fold number\n",
    "    fold_no = fold_no + 1\n",
    "  \n",
    "    \n",
    "# == Provide average scores ==\n",
    "print('..................................................................')\n",
    "print('Score per fold')\n",
    "for i in range(0, len(acc_per_fold)):\n",
    "    print('..................................................................')\n",
    "    print(f'> Fold {i+1} - Loss: {loss_per_fold[i]} - Accuracy: {acc_per_fold[i]}%')\n",
    "print('..................................................................')\n",
    "print('Average scores for all folds:')\n",
    "print(f'> Accuracy: {np.mean(acc_per_fold)} (+- {np.std(acc_per_fold)})')\n",
    "print(f'> Loss: {np.mean(loss_per_fold)}')\n",
    "print('..................................................................')\n"
   ]
  },
  {
   "cell_type": "code",
   "execution_count": null,
   "metadata": {},
   "outputs": [],
   "source": []
  },
  {
   "cell_type": "code",
   "execution_count": null,
   "metadata": {},
   "outputs": [],
   "source": []
  }
 ],
 "metadata": {
  "kernelspec": {
   "display_name": "Python 3",
   "language": "python",
   "name": "python3"
  },
  "language_info": {
   "codemirror_mode": {
    "name": "ipython",
    "version": 3
   },
   "file_extension": ".py",
   "mimetype": "text/x-python",
   "name": "python",
   "nbconvert_exporter": "python",
   "pygments_lexer": "ipython3",
   "version": "3.8.5"
  }
 },
 "nbformat": 4,
 "nbformat_minor": 4
}
